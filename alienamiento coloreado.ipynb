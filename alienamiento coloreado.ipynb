{
 "cells": [
  {
   "cell_type": "code",
   "execution_count": 53,
   "metadata": {
    "collapsed": true
   },
   "outputs": [],
   "source": [
    " x = 'ATCGCGTACGTACTCA'"
   ]
  },
  {
   "cell_type": "code",
   "execution_count": 6,
   "metadata": {
    "collapsed": false
   },
   "outputs": [
    {
     "data": {
      "text/html": [
       "<style>\n",
       "#monoseq-3eebe93e {\n",
       "    background: white;\n",
       "    color: black;\n",
       "    font-weight: normal;\n",
       "    text-decoration: none;\n",
       "}\n",
       "#monoseq-3eebe93e .monoseq-margin {\n",
       "    color: grey;\n",
       "}\n",
       "#monoseq-3eebe93e .monoseq-annotation-0 {\n",
       "    color: red;\n",
       "}\n",
       "#monoseq-3eebe93e .monoseq-annotation-1 {\n",
       "    background: black;\n",
       "    color: white;\n",
       "}\n",
       "#monoseq-3eebe93e .monoseq-annotation-1 .monoseq-annotation-0 {\n",
       "    background: red;\n",
       "    color: white;\n",
       "}\n",
       "#monoseq-3eebe93e .monoseq-annotation-2 {\n",
       "    text-decoration: underline;\n",
       "}\n",
       "#monoseq-3eebe93e .monoseq-annotation-3 {\n",
       "    font-weight: bold;\n",
       "}\n",
       "</style><pre id=\"monoseq-3eebe93e\">  <span class=\"monoseq-margin\">1</span>  CGCACTCAAA ACAAAGGAAG ACCGTCCTCG ACTGCAGAGG AAGCAGGAAG CTGTCGGCCC\n",
       " <span class=\"monoseq-margin\">61</span>  AGCTCTGAGC CCAGCTGCTG GAGCCCCGAG CAGCGGCATG GAGTCCGTGG CCCTGTACAG\n",
       "<span class=\"monoseq-margin\">121</span>  CTTTCAGGCT ACAGAGAGCG ACGAGCTGGC CTTCAACAAG GGAGACACAC TCAAGATCCT\n",
       "<span class=\"monoseq-margin\">181</span>  GAACATGGAG GATGACCAGA ACTGGTACAA GGCCGAGCTC CGGGGTGTCG AGGGATTTAT\n",
       "<span class=\"monoseq-margin\">241</span>  TCCCAAGAAC TACATCCGCG TCAAG</pre>"
      ],
      "text/plain": [
       "<IPython.core.display.HTML object>"
      ]
     },
     "execution_count": 6,
     "metadata": {},
     "output_type": "execute_result"
    }
   ],
   "source": [
    "from monoseq.ipynb import Seq\n",
    "\n",
    "s = ('cgcactcaaaacaaaggaagaccgtcctcgactgcagaggaagcaggaagctgtc'\n",
    "     'ggcccagctctgagcccagctgctggagccccgagcagcggcatggagtccgtgg'\n",
    "     'ccctgtacagctttcaggctacagagagcgacgagctggccttcaacaagggaga'\n",
    "     'cacactcaagatcctgaacatggaggatgaccagaactggtacaaggccgagctc'\n",
    "     'cggggtgtcgagggatttattcccaagaactacatccgcgtcaag')\n",
    "\n",
    "Seq(s.upper())"
   ]
  },
  {
   "cell_type": "code",
   "execution_count": 7,
   "metadata": {
    "collapsed": true
   },
   "outputs": [],
   "source": [
    "#print pprint_sequence(sequence, block_length=8, blocks_per_line=7)"
   ]
  },
  {
   "cell_type": "code",
   "execution_count": 83,
   "metadata": {
    "collapsed": false
   },
   "outputs": [
    {
     "data": {
      "text/html": [
       "<style>\n",
       "#monoseq-1e41b607 {\n",
       "    background: white;\n",
       "    color: black;\n",
       "    font-weight: normal;\n",
       "    text-decoration: none;\n",
       "}\n",
       "#monoseq-1e41b607 .monoseq-margin {\n",
       "    color: grey;\n",
       "}\n",
       "#monoseq-1e41b607 .monoseq-annotation-0 {\n",
       "    color: red;\n",
       "}\n",
       "#monoseq-1e41b607 .monoseq-annotation-1 {\n",
       "    background: black;\n",
       "    color: white;\n",
       "}\n",
       "#monoseq-1e41b607 .monoseq-annotation-1 .monoseq-annotation-0 {\n",
       "    background: red;\n",
       "    color: white;\n",
       "}\n",
       "#monoseq-1e41b607 .monoseq-annotation-2 {\n",
       "    text-decoration: underline;\n",
       "}\n",
       "#monoseq-1e41b607 .monoseq-annotation-3 {\n",
       "    font-weight: bold;\n",
       "}\n",
       "</style><pre id=\"monoseq-1e41b607\">  <span class=\"monoseq-margin\">1</span>  C<span class=\"monoseq-annotation-0\">GCACTCAAA</span> ACAAAGGAAG ACCGTCCTCG ACTGCAGAGG AAGCAGGAAG CTGTCGGCCC\n",
       " <span class=\"monoseq-margin\">61</span>  AGCTCTGAGC CCAGCTGCTG GAGCCCCGAG CAGCGGCATG GAGTCCGTGG CCCTGTACAG\n",
       "<span class=\"monoseq-margin\">121</span>  CTTTCAGGCT ACAGAGAGCG ACGAGCTGGC CTTCAACAAG GGAGACACAC TCAAGATCCT\n",
       "<span class=\"monoseq-margin\">181</span>  GAACATGGAG GATGACCAGA ACTGGTACAA GGCCGAGCTC CG<span class=\"monoseq-annotation-0\">GGGTGTCG</span> <span class=\"monoseq-annotation-0\">AGGGATTTAT</span>\n",
       "<span class=\"monoseq-margin\">241</span>  <span class=\"monoseq-annotation-0\">TCCCAAG</span>AAC TACATCCGCG TCAAG</pre>"
      ],
      "text/plain": [
       "<IPython.core.display.HTML object>"
      ]
     },
     "execution_count": 83,
     "metadata": {},
     "output_type": "execute_result"
    }
   ],
   "source": [
    "conserved = [(1,10), (222, 247)]\n",
    "Seq(s.upper(), annotations=[conserved])"
   ]
  },
  {
   "cell_type": "code",
   "execution_count": 85,
   "metadata": {
    "collapsed": false
   },
   "outputs": [
    {
     "data": {
      "text/html": [
       "<style>\n",
       "#monoseq-85831303 { background: beige; color: gray }\n",
       "#monoseq-85831303 .monoseq-margin { font-style: italic; color: green }\n",
       "#monoseq-85831303 .monoseq-annotation-0 { color: blue; font-weight: bold }\n",
       "</style><pre id=\"monoseq-85831303\">  <span class=\"monoseq-margin\">1</span>  C<span class=\"monoseq-annotation-0\">GCACTCAAA</span> ACAAAGGAAG ACCGTCCTCG ACTGCAGAGG AAGCAGGAAG CTGTCGGCCC\n",
       " <span class=\"monoseq-margin\">61</span>  AGCTCTGAGC CCAGCTGCTG GAGCCCCGAG CAGCGGCATG GAGTCCGTGG CCCTGTACAG\n",
       "<span class=\"monoseq-margin\">121</span>  CTTTCAGGCT ACAGAGAGCG ACGAGCTGGC CTTCAACAAG GGAGACACAC TCAAGATCCT\n",
       "<span class=\"monoseq-margin\">181</span>  GAACATGGAG GATGACCAGA ACTGGTACAA GGCCGAGCTC CG<span class=\"monoseq-annotation-0\">GGGTGTCG</span> <span class=\"monoseq-annotation-0\">AGGGATTTAT</span>\n",
       "<span class=\"monoseq-margin\">241</span>  <span class=\"monoseq-annotation-0\">TCCCAAG</span>AAC TACATCCGCG TCAAG</pre>"
      ],
      "text/plain": [
       "<IPython.core.display.HTML object>"
      ]
     },
     "execution_count": 85,
     "metadata": {},
     "output_type": "execute_result"
    }
   ],
   "source": [
    "style = \"\"\"\n",
    "{selector} {{ background: beige; color: gray }}\n",
    "{selector} .monoseq-margin {{ font-style: italic; color: green }}\n",
    "{selector} .monoseq-annotation-0 {{ color: blue; font-weight: bold }}\n",
    "\"\"\"\n",
    "Seq(s.upper(), style=style, annotations=[conserved])"
   ]
  },
  {
   "cell_type": "code",
   "execution_count": 1,
   "metadata": {
    "collapsed": false
   },
   "outputs": [
    {
     "name": "stderr",
     "output_type": "stream",
     "text": [
      "/home/jennifer/anaconda2/lib/python2.7/site-packages/bioutils/accessions.py:12: UserWarning: bioutils.accessions is deprecated; see bioutils.assemblies\n",
      "  warnings.warn(\"bioutils.accessions is deprecated; see bioutils.assemblies\")\n"
     ]
    }
   ],
   "source": [
    "import hgvs.variant\n",
    "import hgvs.dataproviders.uta\n",
    "hdp = hgvs.dataproviders.uta.connect()\n",
    "import hgvs.variantmapper\n",
    "variantmapper = hgvs.variantmapper.VariantMapper(hdp)"
   ]
  },
  {
   "cell_type": "code",
   "execution_count": 2,
   "metadata": {
    "collapsed": false
   },
   "outputs": [
    {
     "data": {
      "text/plain": [
       "(SequenceVariant(ac=NM_182763.2, type=c, posedit=688+403C>T),\n",
       " BaseOffsetPosition(base=688, offset=403, datum=1, uncertain=False))"
      ]
     },
     "execution_count": 2,
     "metadata": {},
     "output_type": "execute_result"
    }
   ],
   "source": [
    "import hgvs.parser\n",
    "hp = hgvs.parser.Parser()\n",
    "var_c1 = hp.parse_hgvs_variant('NM_182763.2:c.688+403C>T')\n",
    "var_c1, var_c1.posedit.pos.start"
   ]
  },
  {
   "cell_type": "code",
   "execution_count": 9,
   "metadata": {
    "collapsed": false
   },
   "outputs": [
    {
     "name": "stdout",
     "output_type": "stream",
     "text": [
      "Ingrese el transcripto:NP_001184249.1\n"
     ]
    }
   ],
   "source": [
    "t = raw_input('Ingrese el transcripto:')"
   ]
  },
  {
   "cell_type": "code",
   "execution_count": 34,
   "metadata": {
    "collapsed": false
   },
   "outputs": [
    {
     "name": "stdout",
     "output_type": "stream",
     "text": [
      "Ingrese la posición:52\n"
     ]
    }
   ],
   "source": [
    "p = raw_input('Ingrese la posición:')"
   ]
  },
  {
   "cell_type": "code",
   "execution_count": 35,
   "metadata": {
    "collapsed": false
   },
   "outputs": [
    {
     "name": "stdout",
     "output_type": "stream",
     "text": [
      "Ingrese la variante de referencia:c\n"
     ]
    }
   ],
   "source": [
    "ref1  = raw_input('Ingrese la variante de referencia:')"
   ]
  },
  {
   "cell_type": "code",
   "execution_count": 36,
   "metadata": {
    "collapsed": false
   },
   "outputs": [
    {
     "name": "stdout",
     "output_type": "stream",
     "text": [
      "Ingrese la variante encontrada:t\n"
     ]
    }
   ],
   "source": [
    "alt1 = raw_input('Ingrese la variante encontrada:')"
   ]
  },
  {
   "cell_type": "code",
   "execution_count": 37,
   "metadata": {
    "collapsed": false
   },
   "outputs": [
    {
     "data": {
      "text/plain": [
       "(NARefAlt(ref=C, alt=T, uncertain=False), 'C>T')"
      ]
     },
     "execution_count": 37,
     "metadata": {},
     "output_type": "execute_result"
    }
   ],
   "source": [
    "edit = hgvs.edit.NARefAlt(ref= str(ref1.upper()),alt= str(alt1.upper()))\n",
    "edit, str(edit)"
   ]
  },
  {
   "cell_type": "code",
   "execution_count": 38,
   "metadata": {
    "collapsed": false
   },
   "outputs": [
    {
     "data": {
      "text/plain": [
       "(PosEdit(pos=52, edit=C>T, uncertain=False), '52C>T')"
      ]
     },
     "execution_count": 38,
     "metadata": {},
     "output_type": "execute_result"
    }
   ],
   "source": [
    "posedit = hgvs.posedit.PosEdit(pos= p,edit=edit)\n",
    "posedit, str(posedit)"
   ]
  },
  {
   "cell_type": "code",
   "execution_count": 39,
   "metadata": {
    "collapsed": false
   },
   "outputs": [
    {
     "data": {
      "text/plain": [
       "(SequenceVariant(ac=NP_001184249.1, type=c, posedit=52C>T),\n",
       " 'NP_001184249.1:c.52C>T')"
      ]
     },
     "execution_count": 39,
     "metadata": {},
     "output_type": "execute_result"
    }
   ],
   "source": [
    "var = hgvs.variant.SequenceVariant(ac=str(t), type='c', posedit= posedit)\n",
    "var, str(var)"
   ]
  },
  {
   "cell_type": "code",
   "execution_count": 40,
   "metadata": {
    "collapsed": false
   },
   "outputs": [
    {
     "name": "stdout",
     "output_type": "stream",
     "text": [
      "NP_001184249.1:c.52C>T\n"
     ]
    }
   ],
   "source": [
    "print str(var)"
   ]
  }
 ],
 "metadata": {
  "kernelspec": {
   "display_name": "Python 2",
   "language": "python",
   "name": "python2"
  },
  "language_info": {
   "codemirror_mode": {
    "name": "ipython",
    "version": 2
   },
   "file_extension": ".py",
   "mimetype": "text/x-python",
   "name": "python",
   "nbconvert_exporter": "python",
   "pygments_lexer": "ipython2",
   "version": "2.7.13"
  }
 },
 "nbformat": 4,
 "nbformat_minor": 2
}
