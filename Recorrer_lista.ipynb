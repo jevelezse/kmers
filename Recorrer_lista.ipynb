{
 "cells": [
  {
   "cell_type": "code",
   "execution_count": 2,
   "metadata": {
    "collapsed": false,
    "scrolled": true
   },
   "outputs": [],
   "source": [
    "import random\n",
    "lista=[]\n",
    "for x in range(1,50):\n",
    "    valor=random.randint(1,300)\n",
    "    lista.append(valor)"
   ]
  },
  {
   "cell_type": "code",
   "execution_count": 3,
   "metadata": {
    "collapsed": false
   },
   "outputs": [
    {
     "data": {
      "text/plain": [
       "[137,\n",
       " 99,\n",
       " 10,\n",
       " 59,\n",
       " 27,\n",
       " 35,\n",
       " 153,\n",
       " 211,\n",
       " 260,\n",
       " 128,\n",
       " 241,\n",
       " 245,\n",
       " 213,\n",
       " 293,\n",
       " 61,\n",
       " 206,\n",
       " 213,\n",
       " 289,\n",
       " 130,\n",
       " 250,\n",
       " 254,\n",
       " 68,\n",
       " 92,\n",
       " 210,\n",
       " 105,\n",
       " 144,\n",
       " 267,\n",
       " 135,\n",
       " 248,\n",
       " 149,\n",
       " 262,\n",
       " 98,\n",
       " 175,\n",
       " 129,\n",
       " 1,\n",
       " 112,\n",
       " 13,\n",
       " 67,\n",
       " 298,\n",
       " 107,\n",
       " 7,\n",
       " 37,\n",
       " 217,\n",
       " 27,\n",
       " 128,\n",
       " 185,\n",
       " 105,\n",
       " 114,\n",
       " 244]"
      ]
     },
     "execution_count": 3,
     "metadata": {},
     "output_type": "execute_result"
    }
   ],
   "source": [
    "lista"
   ]
  },
  {
   "cell_type": "code",
   "execution_count": null,
   "metadata": {
    "collapsed": true
   },
   "outputs": [],
   "source": []
  }
 ],
 "metadata": {
  "kernelspec": {
   "display_name": "Python 2",
   "language": "python",
   "name": "python2"
  },
  "language_info": {
   "codemirror_mode": {
    "name": "ipython",
    "version": 2
   },
   "file_extension": ".py",
   "mimetype": "text/x-python",
   "name": "python",
   "nbconvert_exporter": "python",
   "pygments_lexer": "ipython2",
   "version": "2.7.13"
  }
 },
 "nbformat": 4,
 "nbformat_minor": 2
}
