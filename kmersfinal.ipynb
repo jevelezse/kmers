{
 "cells": [
  {
   "cell_type": "code",
   "execution_count": 1,
   "metadata": {
    "collapsed": false
   },
   "outputs": [
    {
     "name": "stdout",
     "output_type": "stream",
     "text": [
      "Ingrese su secuencia:atcg\n",
      "Secuencia ingresada ATCG\n",
      "Ingrese el número de kmers:3\n",
      "['ATC', 'TCG']\n",
      "Secuenica->Número de ocurrencias\n",
      "('ATC', 1)\n",
      "('TCG', 1)\n"
     ]
    }
   ],
   "source": [
    "adn= raw_input('Ingrese su secuencia:') #Ingresar secuencia manualmente por el usuario.\n",
    "ADN = adn.upper()#Convertir secuencia en mayusculas\n",
    "print 'Secuencia ingresada',ADN\n",
    "\n",
    "k= raw_input('Ingrese el número de kmers:')\n",
    "K= int(k)\n",
    "\n",
    "\n",
    "def kmer_list(dna, k): #Función de python que calcula el número de kmers dentro de una cadena y genera una lista.\n",
    "    result = []\n",
    "    for x in range(len(dna)+1-k):\n",
    "        result.append(dna[x:x+k])\n",
    "    return result\n",
    "\n",
    "x= kmer_list(ADN,int(k)) #Invoando función de kamers y creando la lista. Se nuestra la lista de kmers presentes.\n",
    "print x\n",
    "\n",
    "#El siguiente ciclo genera dos listas la primera identifica los elementos presentes en la lista x (kmers generados), estos son ordenados y los coloca en una lista aparte, la lista final contendra las repeticiones de la lista original y añadira su respectivo conteo. e imprime una lista en forma de tuplas (kmer, ocurrrencia).\n",
    "\n",
    "lista = [] \n",
    "lista_final = []\n",
    " \n",
    "for numero in x:\n",
    "   lista += numero.split()\n",
    "lista.sort()\n",
    "set_lista = set(lista) \n",
    "set_lista = list(set_lista)\n",
    "set_lista.sort()\n",
    "print \"Secuenica->Número de ocurrencias\"\n",
    "for numero in set_lista:\n",
    "    lista_final.append((numero,lista.count(numero)))\n",
    " \n",
    "lista_final.sort(reverse=False)\n",
    "\n",
    "#print lista_final\n",
    "\n",
    "for i in lista_final:\n",
    "\tprint (i)"
   ]
  },
  {
   "cell_type": "code",
   "execution_count": null,
   "metadata": {
    "collapsed": true
   },
   "outputs": [],
   "source": []
  }
 ],
 "metadata": {
  "kernelspec": {
   "display_name": "Python 2",
   "language": "python",
   "name": "python2"
  },
  "language_info": {
   "codemirror_mode": {
    "name": "ipython",
    "version": 2
   },
   "file_extension": ".py",
   "mimetype": "text/x-python",
   "name": "python",
   "nbconvert_exporter": "python",
   "pygments_lexer": "ipython2",
   "version": "2.7.12"
  }
 },
 "nbformat": 4,
 "nbformat_minor": 0
}
