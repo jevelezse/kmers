{
 "cells": [
  {
   "cell_type": "markdown",
   "metadata": {},
   "source": [
    "  # Python para bioinformática"
   ]
  },
  {
   "cell_type": "markdown",
   "metadata": {},
   "source": [
    "Python es un lenguaje de programación interpretado cuya filosofía hace hincapié en una sintaxis que favorezca un código legible.\n",
    "\n",
    "Se trata de un lenguaje de programación multiparadigma, ya que soporta orientación a objetos, programación imperativa y, en menor medida, programación funcional. Es un lenguaje interpretado, usa tipado dinámico y es multiplataforma."
   ]
  },
  {
   "cell_type": "code",
   "execution_count": 1,
   "metadata": {
    "collapsed": false
   },
   "outputs": [
    {
     "name": "stdout",
     "output_type": "stream",
     "text": [
      "Hola mundo\n"
     ]
    }
   ],
   "source": [
    "print \"Hola mundo\""
   ]
  },
  {
   "cell_type": "code",
   "execution_count": 74,
   "metadata": {
    "collapsed": false
   },
   "outputs": [
    {
     "data": {
      "text/plain": [
       "10"
      ]
     },
     "execution_count": 74,
     "metadata": {},
     "output_type": "execute_result"
    }
   ],
   "source": [
    "5 + 5"
   ]
  },
  {
   "cell_type": "markdown",
   "metadata": {},
   "source": [
    "Declaración de variables"
   ]
  },
  {
   "cell_type": "code",
   "execution_count": 4,
   "metadata": {
    "collapsed": false
   },
   "outputs": [],
   "source": [
    "x = 1 \n",
    "y = 2.3 \n",
    "z = 1j \n",
    "w = \"Hola\" "
   ]
  },
  {
   "cell_type": "code",
   "execution_count": 6,
   "metadata": {
    "collapsed": false
   },
   "outputs": [
    {
     "data": {
      "text/plain": [
       "int"
      ]
     },
     "execution_count": 6,
     "metadata": {},
     "output_type": "execute_result"
    }
   ],
   "source": [
    "type (x)"
   ]
  },
  {
   "cell_type": "code",
   "execution_count": 7,
   "metadata": {
    "collapsed": false
   },
   "outputs": [
    {
     "data": {
      "text/plain": [
       "float"
      ]
     },
     "execution_count": 7,
     "metadata": {},
     "output_type": "execute_result"
    }
   ],
   "source": [
    "type (y)"
   ]
  },
  {
   "cell_type": "code",
   "execution_count": 8,
   "metadata": {
    "collapsed": false
   },
   "outputs": [
    {
     "data": {
      "text/plain": [
       "complex"
      ]
     },
     "execution_count": 8,
     "metadata": {},
     "output_type": "execute_result"
    }
   ],
   "source": [
    "type (z)"
   ]
  },
  {
   "cell_type": "code",
   "execution_count": 9,
   "metadata": {
    "collapsed": false
   },
   "outputs": [
    {
     "data": {
      "text/plain": [
       "str"
      ]
     },
     "execution_count": 9,
     "metadata": {},
     "output_type": "execute_result"
    }
   ],
   "source": [
    "type (w)"
   ]
  },
  {
   "cell_type": "markdown",
   "metadata": {},
   "source": [
    "*** Cadenas en python***"
   ]
  },
  {
   "cell_type": "code",
   "execution_count": 10,
   "metadata": {
    "collapsed": false
   },
   "outputs": [
    {
     "data": {
      "text/plain": [
       "'atggtacgtccgt'"
      ]
     },
     "execution_count": 10,
     "metadata": {},
     "output_type": "execute_result"
    }
   ],
   "source": [
    "'atg' + 'gtacgtccgt'"
   ]
  },
  {
   "cell_type": "code",
   "execution_count": 11,
   "metadata": {
    "collapsed": false
   },
   "outputs": [
    {
     "data": {
      "text/plain": [
       "'atgatgatg'"
      ]
     },
     "execution_count": 11,
     "metadata": {},
     "output_type": "execute_result"
    }
   ],
   "source": [
    "'atg'*3"
   ]
  },
  {
   "cell_type": "code",
   "execution_count": 12,
   "metadata": {
    "collapsed": false
   },
   "outputs": [
    {
     "data": {
      "text/plain": [
       "True"
      ]
     },
     "execution_count": 12,
     "metadata": {},
     "output_type": "execute_result"
    }
   ],
   "source": [
    "'atg' in 'atggccggcgta'"
   ]
  },
  {
   "cell_type": "code",
   "execution_count": 13,
   "metadata": {
    "collapsed": true
   },
   "outputs": [],
   "source": [
    "dna=\"gatcccccgatattatttgc\""
   ]
  },
  {
   "cell_type": "code",
   "execution_count": 14,
   "metadata": {
    "collapsed": false
   },
   "outputs": [
    {
     "data": {
      "text/plain": [
       "'g'"
      ]
     },
     "execution_count": 14,
     "metadata": {},
     "output_type": "execute_result"
    }
   ],
   "source": [
    "dna[0]"
   ]
  },
  {
   "cell_type": "code",
   "execution_count": 15,
   "metadata": {
    "collapsed": false
   },
   "outputs": [
    {
     "data": {
      "text/plain": [
       "'c'"
      ]
     },
     "execution_count": 15,
     "metadata": {},
     "output_type": "execute_result"
    }
   ],
   "source": [
    "dna[-1]"
   ]
  },
  {
   "cell_type": "code",
   "execution_count": 16,
   "metadata": {
    "collapsed": false
   },
   "outputs": [
    {
     "data": {
      "text/plain": [
       "'tcccccgatattatttgc'"
      ]
     },
     "execution_count": 16,
     "metadata": {},
     "output_type": "execute_result"
    }
   ],
   "source": [
    "dna[2:]"
   ]
  },
  {
   "cell_type": "code",
   "execution_count": 17,
   "metadata": {
    "collapsed": false
   },
   "outputs": [
    {
     "data": {
      "text/plain": [
       "20"
      ]
     },
     "execution_count": 17,
     "metadata": {},
     "output_type": "execute_result"
    }
   ],
   "source": [
    "len(dna)"
   ]
  },
  {
   "cell_type": "code",
   "execution_count": 18,
   "metadata": {
    "collapsed": false
   },
   "outputs": [
    {
     "data": {
      "text/plain": [
       "6"
      ]
     },
     "execution_count": 18,
     "metadata": {},
     "output_type": "execute_result"
    }
   ],
   "source": [
    "dna.count('c')"
   ]
  },
  {
   "cell_type": "code",
   "execution_count": 26,
   "metadata": {
    "collapsed": true
   },
   "outputs": [],
   "source": [
    "adn = \"AGCTTTTCATTCTGACTGCAACGGGCAATATGTCTCTGTGTGGATTAAAAAAAGAGTGTCTGATAGCAGC\""
   ]
  },
  {
   "cell_type": "code",
   "execution_count": 28,
   "metadata": {
    "collapsed": false
   },
   "outputs": [
    {
     "name": "stdout",
     "output_type": "stream",
     "text": [
      "(12, 17, 21, 20)\n"
     ]
    }
   ],
   "source": [
    "c = adn.count('C')\n",
    "g = adn.count('G')\n",
    "t = adn.count('T')\n",
    "a = adn.count('A')\n",
    "print(c,g,t,a)"
   ]
  },
  {
   "cell_type": "code",
   "execution_count": 2,
   "metadata": {
    "collapsed": true
   },
   "outputs": [],
   "source": [
    "dna = 'acgctcgcgcggcgatagctgatcgatcggcgcgctttttttttaaaag'"
   ]
  },
  {
   "cell_type": "code",
   "execution_count": 57,
   "metadata": {
    "collapsed": true
   },
   "outputs": [],
   "source": [
    "no_c = dna.count('c')"
   ]
  },
  {
   "cell_type": "code",
   "execution_count": 58,
   "metadata": {
    "collapsed": true
   },
   "outputs": [],
   "source": [
    "no_g = dna.count('g')"
   ]
  },
  {
   "cell_type": "code",
   "execution_count": 76,
   "metadata": {
    "collapsed": false
   },
   "outputs": [
    {
     "name": "stdout",
     "output_type": "stream",
     "text": [
      "49\n"
     ]
    }
   ],
   "source": [
    "dna_largo = len(dna)\n",
    "print dna_largo"
   ]
  },
  {
   "cell_type": "code",
   "execution_count": 6,
   "metadata": {
    "collapsed": false
   },
   "outputs": [
    {
     "data": {
      "text/plain": [
       "'ACGCTCGCGCGGCGATAGCTGATCGATCGGCGCGCTTTTTTTTTAAAAG'"
      ]
     },
     "execution_count": 6,
     "metadata": {},
     "output_type": "execute_result"
    }
   ],
   "source": [
    "dna.upper()"
   ]
  },
  {
   "cell_type": "code",
   "execution_count": 77,
   "metadata": {
    "collapsed": true
   },
   "outputs": [],
   "source": [
    "gc_porcentaje =(no_c+no_g)*100.0/dna_largo"
   ]
  },
  {
   "cell_type": "code",
   "execution_count": 78,
   "metadata": {
    "collapsed": false
   },
   "outputs": [
    {
     "name": "stdout",
     "output_type": "stream",
     "text": [
      "53.0612244898\n"
     ]
    }
   ],
   "source": [
    "print gc_porcentaje"
   ]
  },
  {
   "cell_type": "code",
   "execution_count": 79,
   "metadata": {
    "collapsed": false
   },
   "outputs": [
    {
     "data": {
      "text/plain": [
       "'t'"
      ]
     },
     "execution_count": 79,
     "metadata": {},
     "output_type": "execute_result"
    }
   ],
   "source": [
    "dna[22] "
   ]
  },
  {
   "cell_type": "markdown",
   "metadata": {},
   "source": [
    "***Ejercicio 1***\n",
    "\n",
    "1. Para la secuencia del ejecicio 1 calcule el número de núcleotidos presentes en la cadena dada.\n",
    "2. Calcule el tamaño de la secuencia.\n",
    "3. Calcule el procentaje de GC.\n",
    "4. ¿Cuáles son los núcleotidos que se encuentran en las posicion 355 a la 360?"
   ]
  },
  {
   "cell_type": "code",
   "execution_count": 3,
   "metadata": {
    "collapsed": false
   },
   "outputs": [],
   "source": [
    "dna1 = \"TCGTACCGCGCCTCCTCAACGCACTACTTATTGCGACGTAATGTGTTATCCGATCCCATGATCGTGTAAATTATCTATAAGACATGACGTATTACCTGCCAGCCATCTCTTCTGCCTCATCTTGACCGCTTCAACGCTTGCGCATCAAAGTACGGCAATGTCCACGCGTCCTGATGTGGTGACCAGGAGTGGACGCCCCTGCGTACTGTAGAGGTCTTTACGTTACCGATCCCGGTGATCTGTATGTCCAGCTGACCTGGAATCACATGGTCCAGTTTCGCGACACAACTCAATAGTCCGTCCTCGTTGACAACGGATGAGACGAAAACAATATAATTCCGTGATCGTCGCTATGGCGGCGTCATCCGGAAGAATTTACGGGGATAGGTGACCTATTTTTAAGCAAACGCGTGAGCAGGCGACCTCAAACCAGGGGAGAGCCAGAAGCCCCTATGGACGGCGGGAGCGTCGGACCTTCTGGGTTCTTGGCAGTATTGGCATACGTTTTTTAGTGCAGTCCAAATTACAGTTCTGGATGACATGGAGGTTTCGTTCATGGATAGATAGATGCATGTGGTACTCTAGGGTTTTTTCCCGGGAGGTTGCTACTACAGGTAGCGAGCGGAGCGTTCGGTTTCCAGGTCGCCTATTGGTTCCGTTTGGCTTGATCTTGCACAGTACCCTACTATGTGTGGTAGCCTTTCATTACTTTAAGCAGCGACGATTACGACACACATTGGGGCACCCATGCCGGAGAGAATTTGGCTCCGCGTAACTGATGTAATCGATATAATCCCATCCAGCGACAGCCCGTATGGTCTAACAATTAGTGACAGGCTGGGGACGAGAATGAGTAACTCAAAGGATGCCAGACTGGCAGCCCCAGAACCGCATGTATCTTCGGAATTGTAGATATTCTGGTCAGGCCTGGCTTCTCCGTGTTAATATG\""
   ]
  },
  {
   "cell_type": "code",
   "execution_count": 86,
   "metadata": {
    "collapsed": false
   },
   "outputs": [],
   "source": [
    "c = dna1.count('C')\n",
    "g = dna1.count('G')\n",
    "t = dna1.count('T')\n",
    "a = dna1.count('A')\n",
    "lar = len(dna1)"
   ]
  },
  {
   "cell_type": "code",
   "execution_count": 87,
   "metadata": {
    "collapsed": false
   },
   "outputs": [
    {
     "data": {
      "text/plain": [
       "949"
      ]
     },
     "execution_count": 87,
     "metadata": {},
     "output_type": "execute_result"
    }
   ],
   "source": [
    "len(dna1)"
   ]
  },
  {
   "cell_type": "code",
   "execution_count": 88,
   "metadata": {
    "collapsed": false
   },
   "outputs": [
    {
     "name": "stdout",
     "output_type": "stream",
     "text": [
      "(221, 251, 245, 232)\n"
     ]
    }
   ],
   "source": [
    "print(a,t,g,c)"
   ]
  },
  {
   "cell_type": "code",
   "execution_count": 103,
   "metadata": {
    "collapsed": false
   },
   "outputs": [
    {
     "name": "stdout",
     "output_type": "stream",
     "text": [
      "50.2634351949\n"
     ]
    }
   ],
   "source": [
    "gc_porcentaje =(c + g)*100.000/lar\n",
    "print gc_porcentaje"
   ]
  },
  {
   "cell_type": "code",
   "execution_count": 90,
   "metadata": {
    "collapsed": false
   },
   "outputs": [
    {
     "data": {
      "text/plain": [
       "'GGCGG'"
      ]
     },
     "execution_count": 90,
     "metadata": {},
     "output_type": "execute_result"
    }
   ],
   "source": [
    "dna1[354:359]"
   ]
  },
  {
   "cell_type": "markdown",
   "metadata": {},
   "source": [
    "# Listas"
   ]
  },
  {
   "cell_type": "markdown",
   "metadata": {},
   "source": [
    "## Funciones en python. "
   ]
  },
  {
   "cell_type": "markdown",
   "metadata": {},
   "source": [
    "**def** mi_funcion(): "
   ]
  },
  {
   "cell_type": "code",
   "execution_count": 7,
   "metadata": {
    "collapsed": true
   },
   "outputs": [],
   "source": [
    "def gc(dna) :\n",
    "    \"Esta función calcula el %GC\"\n",
    "    nbases=dna.count('n')+dna.count('N')\n",
    "    gcpercent=float(dna.count('c')+dna.count('C')+dna.count('g')+dna.count('G'))*100.0/(len(dna)-nbases)\n",
    "    return gcpercent"
   ]
  },
  {
   "cell_type": "code",
   "execution_count": 8,
   "metadata": {
    "collapsed": false
   },
   "outputs": [
    {
     "data": {
      "text/plain": [
       "50.26343519494205"
      ]
     },
     "execution_count": 8,
     "metadata": {},
     "output_type": "execute_result"
    }
   ],
   "source": [
    "gc(dna1)"
   ]
  },
  {
   "cell_type": "code",
   "execution_count": 1,
   "metadata": {
    "collapsed": true
   },
   "outputs": [],
   "source": [
    "def transcibir(dna): \n",
    "    \"\"\"Retorna dna como rna \"\"\" \n",
    "    return dna.replace('T', 'U') "
   ]
  },
  {
   "cell_type": "code",
   "execution_count": 4,
   "metadata": {
    "collapsed": false
   },
   "outputs": [
    {
     "data": {
      "text/plain": [
       "'UCGUACCGCGCCUCCUCAACGCACUACUUAUUGCGACGUAAUGUGUUAUCCGAUCCCAUGAUCGUGUAAAUUAUCUAUAAGACAUGACGUAUUACCUGCCAGCCAUCUCUUCUGCCUCAUCUUGACCGCUUCAACGCUUGCGCAUCAAAGUACGGCAAUGUCCACGCGUCCUGAUGUGGUGACCAGGAGUGGACGCCCCUGCGUACUGUAGAGGUCUUUACGUUACCGAUCCCGGUGAUCUGUAUGUCCAGCUGACCUGGAAUCACAUGGUCCAGUUUCGCGACACAACUCAAUAGUCCGUCCUCGUUGACAACGGAUGAGACGAAAACAAUAUAAUUCCGUGAUCGUCGCUAUGGCGGCGUCAUCCGGAAGAAUUUACGGGGAUAGGUGACCUAUUUUUAAGCAAACGCGUGAGCAGGCGACCUCAAACCAGGGGAGAGCCAGAAGCCCCUAUGGACGGCGGGAGCGUCGGACCUUCUGGGUUCUUGGCAGUAUUGGCAUACGUUUUUUAGUGCAGUCCAAAUUACAGUUCUGGAUGACAUGGAGGUUUCGUUCAUGGAUAGAUAGAUGCAUGUGGUACUCUAGGGUUUUUUCCCGGGAGGUUGCUACUACAGGUAGCGAGCGGAGCGUUCGGUUUCCAGGUCGCCUAUUGGUUCCGUUUGGCUUGAUCUUGCACAGUACCCUACUAUGUGUGGUAGCCUUUCAUUACUUUAAGCAGCGACGAUUACGACACACAUUGGGGCACCCAUGCCGGAGAGAAUUUGGCUCCGCGUAACUGAUGUAAUCGAUAUAAUCCCAUCCAGCGACAGCCCGUAUGGUCUAACAAUUAGUGACAGGCUGGGGACGAGAAUGAGUAACUCAAAGGAUGCCAGACUGGCAGCCCCAGAACCGCAUGUAUCUUCGGAAUUGUAGAUAUUCUGGUCAGGCCUGGCUUCUCCGUGUUAAUAUG'"
      ]
     },
     "execution_count": 4,
     "metadata": {},
     "output_type": "execute_result"
    }
   ],
   "source": [
    "transcibir(dna1)"
   ]
  },
  {
   "cell_type": "markdown",
   "metadata": {},
   "source": [
    "## Creación, carga y lectura de archivos de texto"
   ]
  },
  {
   "cell_type": "markdown",
   "metadata": {},
   "source": [
    "**open**(nombre del archivo,modo)\n",
    "\n",
    "+ 'r' Abre el archivo para lectura (debe existir el archivo)\n",
    "+ 'w' Crea el archivo y lo abre para escribir\n",
    "+ 'a' Abre el archivo para escribir. Se crea si el archivo no existe. Solo podemos agregar datos al final\n"
   ]
  },
  {
   "cell_type": "code",
   "execution_count": 108,
   "metadata": {
    "collapsed": true
   },
   "outputs": [],
   "source": [
    "archi = open('mi_archivo.txt','r')\n",
    "linea = archi.readline()"
   ]
  },
  {
   "cell_type": "code",
   "execution_count": 109,
   "metadata": {
    "collapsed": false
   },
   "outputs": [
    {
     "name": "stdout",
     "output_type": "stream",
     "text": [
      "Hola Lic. Biología!\n"
     ]
    }
   ],
   "source": [
    "print linea"
   ]
  },
  {
   "cell_type": "code",
   "execution_count": 111,
   "metadata": {
    "collapsed": true
   },
   "outputs": [],
   "source": [
    "archi.close()"
   ]
  },
  {
   "cell_type": "code",
   "execution_count": 114,
   "metadata": {
    "collapsed": false
   },
   "outputs": [],
   "source": [
    "archi1 = open ('mi_archivo.txt','w') \n",
    "archi1.write('Linea 1\\n')\n",
    "archi1.write('Linea 2\\n')\n",
    "archi1.write('Linea 3\\n')\n",
    "archi1.close()"
   ]
  },
  {
   "cell_type": "code",
   "execution_count": 124,
   "metadata": {
    "collapsed": false
   },
   "outputs": [
    {
     "name": "stdout",
     "output_type": "stream",
     "text": [
      "Linea 1\n",
      "Linea 2\n",
      "Linea 3\n",
      "\n"
     ]
    }
   ],
   "source": [
    "archi = open('mi_archivo.txt','r')\n",
    "linea = archi.read()\n",
    "archi1.close()\n",
    "print linea"
   ]
  },
  {
   "cell_type": "markdown",
   "metadata": {},
   "source": [
    "# Ejecicio2"
   ]
  },
  {
   "cell_type": "markdown",
   "metadata": {},
   "source": [
    "1. Abra el archivo fasta y cuente cuantas secuencias fasta hay en el archivo.\n",
    "2. Calcule el número de secuencias ATG que tiene el archvo."
   ]
  },
  {
   "cell_type": "code",
   "execution_count": 126,
   "metadata": {
    "collapsed": false
   },
   "outputs": [
    {
     "name": "stdout",
     "output_type": "stream",
     "text": [
      "18\n"
     ]
    }
   ],
   "source": [
    "f = open(\"dna2.fasta\", \"r\")\n",
    "file = f.read() #lectura de archivo linea por linea\n",
    "print(file.count('>'))"
   ]
  },
  {
   "cell_type": "code",
   "execution_count": 127,
   "metadata": {
    "collapsed": false
   },
   "outputs": [
    {
     "name": "stdout",
     "output_type": "stream",
     "text": [
      "568\n"
     ]
    }
   ],
   "source": [
    "print(file.count('ATG'))"
   ]
  },
  {
   "cell_type": "code",
   "execution_count": 40,
   "metadata": {
    "collapsed": false,
    "scrolled": true
   },
   "outputs": [
    {
     "name": "stdout",
     "output_type": "stream",
     "text": [
      "The Zen of Python, by Tim Peters\n",
      "\n",
      "Beautiful is better than ugly.\n",
      "Explicit is better than implicit.\n",
      "Simple is better than complex.\n",
      "Complex is better than complicated.\n",
      "Flat is better than nested.\n",
      "Sparse is better than dense.\n",
      "Readability counts.\n",
      "Special cases aren't special enough to break the rules.\n",
      "Although practicality beats purity.\n",
      "Errors should never pass silently.\n",
      "Unless explicitly silenced.\n",
      "In the face of ambiguity, refuse the temptation to guess.\n",
      "There should be one-- and preferably only one --obvious way to do it.\n",
      "Although that way may not be obvious at first unless you're Dutch.\n",
      "Now is better than never.\n",
      "Although never is often better than *right* now.\n",
      "If the implementation is hard to explain, it's a bad idea.\n",
      "If the implementation is easy to explain, it may be a good idea.\n",
      "Namespaces are one honking great idea -- let's do more of those!\n"
     ]
    }
   ],
   "source": [
    "import this"
   ]
  },
  {
   "cell_type": "code",
   "execution_count": 129,
   "metadata": {
    "collapsed": false
   },
   "outputs": [],
   "source": [
    "import Bio"
   ]
  },
  {
   "cell_type": "code",
   "execution_count": 130,
   "metadata": {
    "collapsed": false
   },
   "outputs": [
    {
     "name": "stdout",
     "output_type": "stream",
     "text": [
      "1.68\n"
     ]
    }
   ],
   "source": [
    "print(Bio.__version__)"
   ]
  },
  {
   "cell_type": "code",
   "execution_count": 156,
   "metadata": {
    "collapsed": false
   },
   "outputs": [
    {
     "name": "stdout",
     "output_type": "stream",
     "text": [
      "gi|142022655|gb|EQ086233.1|91\n",
      "gi|142022655|gb|EQ086233.1|304\n",
      "gi|142022655|gb|EQ086233.1|255\n",
      "gi|142022655|gb|EQ086233.1|45\n",
      "gi|142022655|gb|EQ086233.1|396\n",
      "gi|142022655|gb|EQ086233.1|250\n",
      "gi|142022655|gb|EQ086233.1|322\n",
      "gi|142022655|gb|EQ086233.1|88\n",
      "gi|142022655|gb|EQ086233.1|594\n",
      "gi|142022655|gb|EQ086233.1|293\n",
      "gi|142022655|gb|EQ086233.1|75\n",
      "gi|142022655|gb|EQ086233.1|454\n",
      "gi|142022655|gb|EQ086233.1|16\n",
      "gi|142022655|gb|EQ086233.1|584\n",
      "gi|142022655|gb|EQ086233.1|4\n",
      "gi|142022655|gb|EQ086233.1|277\n",
      "gi|142022655|gb|EQ086233.1|346\n",
      "gi|142022655|gb|EQ086233.1|527\n"
     ]
    }
   ],
   "source": [
    "from Bio import SeqIO\n",
    "for seq_record in SeqIO.parse(\"dna2.fasta\", \"fasta\"):\n",
    "    print(seq_record.id)\n",
    "    #print(repr(seq_record.seq))\n",
    "    #print(len(seq_record))"
   ]
  },
  {
   "cell_type": "code",
   "execution_count": 159,
   "metadata": {
    "collapsed": false
   },
   "outputs": [
    {
     "name": "stdout",
     "output_type": "stream",
     "text": [
      "gi|142022655|gb|EQ086233.1|527\n"
     ]
    }
   ],
   "source": [
    "archi4 = open('IDfasta.txt','r') \n",
    "x = archi4.read()\n",
    "print x\n",
    "archi4.close()"
   ]
  },
  {
   "cell_type": "code",
   "execution_count": null,
   "metadata": {
    "collapsed": true
   },
   "outputs": [],
   "source": []
  }
 ],
 "metadata": {
  "kernelspec": {
   "display_name": "Python 2",
   "language": "python",
   "name": "python2"
  },
  "language_info": {
   "codemirror_mode": {
    "name": "ipython",
    "version": 2
   },
   "file_extension": ".py",
   "mimetype": "text/x-python",
   "name": "python",
   "nbconvert_exporter": "python",
   "pygments_lexer": "ipython2",
   "version": "2.7.12"
  }
 },
 "nbformat": 4,
 "nbformat_minor": 0
}
